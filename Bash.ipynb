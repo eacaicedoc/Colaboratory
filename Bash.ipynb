{
  "nbformat": 4,
  "nbformat_minor": 0,
  "metadata": {
    "colab": {
      "name": "Bash.ipynb",
      "provenance": [],
      "include_colab_link": true
    },
    "kernelspec": {
      "name": "python3",
      "display_name": "Python 3"
    },
    "accelerator": "GPU"
  },
  "cells": [
    {
      "cell_type": "markdown",
      "metadata": {
        "id": "view-in-github",
        "colab_type": "text"
      },
      "source": [
        "<a href=\"https://colab.research.google.com/github/eacaicedoc/Colaboratory/blob/master/Bash.ipynb\" target=\"_parent\"><img src=\"https://colab.research.google.com/assets/colab-badge.svg\" alt=\"Open In Colab\"/></a>"
      ]
    },
    {
      "cell_type": "code",
      "metadata": {
        "id": "-SuSNiZ1XMkE",
        "colab_type": "code",
        "colab": {
          "base_uri": "https://localhost:8080/",
          "height": 34
        },
        "outputId": "9b8abb16-71d0-4ee1-84fd-f048fa59d81d"
      },
      "source": [
        ""
      ],
      "execution_count": 2,
      "outputs": [
        {
          "output_type": "stream",
          "text": [
            "/content\n"
          ],
          "name": "stdout"
        }
      ]
    },
    {
      "cell_type": "markdown",
      "metadata": {
        "id": "jF0Kmcq3X5Ve",
        "colab_type": "text"
      },
      "source": [
        "# Bash"
      ]
    },
    {
      "cell_type": "code",
      "metadata": {
        "id": "MPRVA9u5XhuW",
        "colab_type": "code",
        "colab": {}
      },
      "source": [
        "# Inprimir directorio donde esta parado\n",
        "!pwd"
      ],
      "execution_count": 0,
      "outputs": []
    },
    {
      "cell_type": "code",
      "metadata": {
        "id": "k0EOgDGcYGn_",
        "colab_type": "code",
        "colab": {
          "base_uri": "https://localhost:8080/",
          "height": 34
        },
        "outputId": "804be993-563d-44f1-fe05-ee79e3f8b37e"
      },
      "source": [
        "# Crear carpeta\n",
        "!mkdir Edwin"
      ],
      "execution_count": 7,
      "outputs": [
        {
          "output_type": "stream",
          "text": [
            "mkdir: cannot create directory ‘Edwin’: File exists\n"
          ],
          "name": "stdout"
        }
      ]
    },
    {
      "cell_type": "code",
      "metadata": {
        "id": "06Zq3yjvYQYv",
        "colab_type": "code",
        "colab": {
          "base_uri": "https://localhost:8080/",
          "height": 34
        },
        "outputId": "8a911ff5-3bef-44fe-ef78-0d3e87e4af21"
      },
      "source": [
        "# mostrar carpetas\n",
        "!ls"
      ],
      "execution_count": 8,
      "outputs": [
        {
          "output_type": "stream",
          "text": [
            "Edwin  sample_data\n"
          ],
          "name": "stdout"
        }
      ]
    },
    {
      "cell_type": "code",
      "metadata": {
        "id": "Jr2nMGmbYZIf",
        "colab_type": "code",
        "colab": {
          "base_uri": "https://localhost:8080/",
          "height": 85
        },
        "outputId": "8a72f296-cad3-401e-d902-30d1a5a474c1"
      },
      "source": [
        "# instalar programas\n",
        "! apt-get install R"
      ],
      "execution_count": 9,
      "outputs": [
        {
          "output_type": "stream",
          "text": [
            "Reading package lists... Done\n",
            "Building dependency tree       \n",
            "Reading state information... Done\n",
            "E: Unable to locate package R\n"
          ],
          "name": "stdout"
        }
      ]
    },
    {
      "cell_type": "code",
      "metadata": {
        "id": "C5YKRZ1jZIkP",
        "colab_type": "code",
        "colab": {
          "base_uri": "https://localhost:8080/",
          "height": 102
        },
        "outputId": "eda70567-b387-4deb-a8d8-3cdc0f02dd45"
      },
      "source": [
        "# instalar git\n",
        "! apt-get install git"
      ],
      "execution_count": 2,
      "outputs": [
        {
          "output_type": "stream",
          "text": [
            "Reading package lists... Done\n",
            "Building dependency tree       \n",
            "Reading state information... Done\n",
            "git is already the newest version (1:2.17.1-1ubuntu0.4).\n",
            "0 upgraded, 0 newly installed, 0 to remove and 8 not upgraded.\n"
          ],
          "name": "stdout"
        }
      ]
    },
    {
      "cell_type": "code",
      "metadata": {
        "id": "GTIcpgVhab3X",
        "colab_type": "code",
        "colab": {
          "base_uri": "https://localhost:8080/",
          "height": 357
        },
        "outputId": "ed281fb3-a9ac-4852-f8ae-65016b2c271a"
      },
      "source": [
        "# Installar nano\n",
        "! apt-get install nano"
      ],
      "execution_count": 4,
      "outputs": [
        {
          "output_type": "stream",
          "text": [
            "Reading package lists... Done\n",
            "Building dependency tree       \n",
            "Reading state information... Done\n",
            "Suggested packages:\n",
            "  spell\n",
            "The following NEW packages will be installed:\n",
            "  nano\n",
            "0 upgraded, 1 newly installed, 0 to remove and 8 not upgraded.\n",
            "Need to get 231 kB of archives.\n",
            "After this operation, 778 kB of additional disk space will be used.\n",
            "Get:1 http://archive.ubuntu.com/ubuntu bionic/main amd64 nano amd64 2.9.3-2 [231 kB]\n",
            "Fetched 231 kB in 0s (3,480 kB/s)\n",
            "Selecting previously unselected package nano.\n",
            "(Reading database ... 131183 files and directories currently installed.)\n",
            "Preparing to unpack .../nano_2.9.3-2_amd64.deb ...\n",
            "Unpacking nano (2.9.3-2) ...\n",
            "Setting up nano (2.9.3-2) ...\n",
            "update-alternatives: using /bin/nano to provide /usr/bin/editor (editor) in auto mode\n",
            "update-alternatives: using /bin/nano to provide /usr/bin/pico (pico) in auto mode\n",
            "Processing triggers for man-db (2.8.3-2ubuntu0.1) ...\n"
          ],
          "name": "stdout"
        }
      ]
    },
    {
      "cell_type": "code",
      "metadata": {
        "id": "L2xM3yWxcaFE",
        "colab_type": "code",
        "colab": {}
      },
      "source": [
        "# Abrir consola de r\n",
        "gedity edwin.R\n",
        "\n",
        "# Abrir archivos\n",
        "rscrip edwin.R\n",
        "\n",
        "# Abrir solo lectura \n",
        "cat edwin.R\n",
        "\n",
        "# comando wget para arrstrar información\n",
        "wget --mirror --convert-links --page-requisites --no-parent -P documents/websites/ https://some-website.com\n",
        "\n",
        "# pai"
      ],
      "execution_count": 0,
      "outputs": []
    }
  ]
}